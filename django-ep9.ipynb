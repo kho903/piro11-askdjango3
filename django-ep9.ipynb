{
 "cells": [
  {
   "cell_type": "code",
   "execution_count": 1,
   "metadata": {},
   "outputs": [
    {
     "data": {
      "text/plain": [
       "blog.models.Post"
      ]
     },
     "execution_count": 1,
     "metadata": {},
     "output_type": "execute_result"
    }
   ],
   "source": [
    "Post"
   ]
  },
  {
   "cell_type": "code",
   "execution_count": 2,
   "metadata": {},
   "outputs": [
    {
     "data": {
      "text/plain": [
       "<django.db.models.manager.Manager at 0x5908b30>"
      ]
     },
     "execution_count": 2,
     "metadata": {},
     "output_type": "execute_result"
    }
   ],
   "source": [
    "Post.objects"
   ]
  },
  {
   "cell_type": "code",
   "execution_count": 3,
   "metadata": {},
   "outputs": [
    {
     "data": {
      "text/plain": [
       "<QuerySet [<Post: Post object (1)>, <Post: Post object (2)>, <Post: Post object (3)>]>"
      ]
     },
     "execution_count": 3,
     "metadata": {},
     "output_type": "execute_result"
    }
   ],
   "source": [
    "Post.objects.all()"
   ]
  },
  {
   "cell_type": "code",
   "execution_count": 4,
   "metadata": {},
   "outputs": [
    {
     "data": {
      "text/plain": [
       "django.db.models.query.QuerySet"
      ]
     },
     "execution_count": 4,
     "metadata": {},
     "output_type": "execute_result"
    }
   ],
   "source": [
    "Post.objects.all().__class__"
   ]
  },
  {
   "cell_type": "code",
   "execution_count": 8,
   "metadata": {},
   "outputs": [
    {
     "data": {
      "text/plain": [
       "<QuerySet []>"
      ]
     },
     "execution_count": 8,
     "metadata": {},
     "output_type": "execute_result"
    }
   ],
   "source": [
    "Post.objects.all().order_by('-id')[10:20]"
   ]
  },
  {
   "cell_type": "code",
   "execution_count": 10,
   "metadata": {},
   "outputs": [
    {
     "data": {
      "text/plain": [
       "{'sql': 'SELECT \"blog_post\".\"id\", \"blog_post\".\"author\", \"blog_post\".\"title\", \"blog_post\".\"content\", \"blog_post\".\"tags\", \"blog_post\".\"lnglat\", \"blog_post\".\"status\", \"blog_post\".\"created_at\", \"blog_post\".\"updated_at\" FROM \"blog_post\" ORDER BY \"blog_post\".\"id\" DESC  LIMIT 10 OFFSET 10',\n",
       " 'time': '0.001'}"
      ]
     },
     "execution_count": 10,
     "metadata": {},
     "output_type": "execute_result"
    }
   ],
   "source": [
    "from django.db import connection\n",
    "connection.queries[-1]"
   ]
  },
  {
   "cell_type": "code",
   "execution_count": 12,
   "metadata": {},
   "outputs": [
    {
     "data": {
      "text/plain": [
       "<Post: Post object (4)>"
      ]
     },
     "execution_count": 12,
     "metadata": {},
     "output_type": "execute_result"
    }
   ],
   "source": [
    "Post.objects.create(author=\"김지훈\", title=\"테스트 제목\"\n",
    "                    , content=\"테스트 내용\",status='d')"
   ]
  },
  {
   "cell_type": "code",
   "execution_count": 1,
   "metadata": {},
   "outputs": [
    {
     "data": {
      "text/plain": [
       "<QuerySet [<Post: 테스트 제목>]>"
      ]
     },
     "execution_count": 1,
     "metadata": {},
     "output_type": "execute_result"
    }
   ],
   "source": [
    "Post.objects.all().filter(title__icontains=\"테스트\")"
   ]
  },
  {
   "cell_type": "code",
   "execution_count": 5,
   "metadata": {},
   "outputs": [
    {
     "name": "stdout",
     "output_type": "stream",
     "text": [
      "첫째 글\n",
      "두번째\n",
      "ㅁ\n",
      "테스트 제목\n"
     ]
    }
   ],
   "source": [
    "for post in Post.objects.all():\n",
    "    print(post)  # -->str(post) -->post.__str__()"
   ]
  },
  {
   "cell_type": "code",
   "execution_count": 6,
   "metadata": {},
   "outputs": [],
   "source": [
    "import random\n",
    "\n",
    "for i in range(1000):\n",
    "    status=random.choice=(['d''p','w'])\n",
    "    Post.objects.create(author=\"김지훈\", title='제목 #{}'.format(i),\n",
    "                        content=\"테스트내용\",status=status)"
   ]
  },
  {
   "cell_type": "code",
   "execution_count": 7,
   "metadata": {},
   "outputs": [
    {
     "data": {
      "text/plain": [
       "1004"
      ]
     },
     "execution_count": 7,
     "metadata": {},
     "output_type": "execute_result"
    }
   ],
   "source": [
    "Post.objects.all().count()"
   ]
  },
  {
   "cell_type": "code",
   "execution_count": 9,
   "metadata": {},
   "outputs": [
    {
     "name": "stdout",
     "output_type": "stream",
     "text": [
      "<QuerySet [<Post: 제목 #13>, <Post: 제목 #103>, <Post: 제목 #113>, <Post: 제목 #123>, <Post: 제목 #133>, <Post: 제목 #143>, <Post: 제목 #153>, <Post: 제목 #163>, <Post: 제목 #173>, <Post: 제목 #183>, <Post: 제목 #193>, <Post: 제목 #213>, <Post: 제목 #313>, <Post: 제목 #413>, <Post: 제목 #513>, <Post: 제목 #613>, <Post: 제목 #713>, <Post: 제목 #813>, <Post: 제목 #913>]>\n",
      "<QuerySet [<Post: 제목 #13>, <Post: 제목 #103>, <Post: 제목 #113>, <Post: 제목 #123>, <Post: 제목 #133>, <Post: 제목 #143>, <Post: 제목 #153>, <Post: 제목 #163>, <Post: 제목 #173>, <Post: 제목 #183>, <Post: 제목 #193>, <Post: 제목 #213>, <Post: 제목 #313>, <Post: 제목 #413>, <Post: 제목 #513>, <Post: 제목 #613>, <Post: 제목 #713>, <Post: 제목 #813>, <Post: 제목 #913>]>\n"
     ]
    }
   ],
   "source": [
    "qs1=Post.objects.filter(title__icontains='1', title__endswith='3')\n",
    "print(qs1)\n",
    "qs2=Post.objects.filter(title__icontains='1').filter(title__endswith='3')\n",
    "print(qs2)"
   ]
  },
  {
   "cell_type": "code",
   "execution_count": 10,
   "metadata": {},
   "outputs": [
    {
     "data": {
      "text/plain": [
       "<QuerySet [<Post: 제목 #1>, <Post: 제목 #10>, <Post: 제목 #11>, <Post: 제목 #12>, <Post: 제목 #14>, <Post: 제목 #15>, <Post: 제목 #16>, <Post: 제목 #17>, <Post: 제목 #18>, <Post: 제목 #19>, <Post: 제목 #21>, <Post: 제목 #31>, <Post: 제목 #41>, <Post: 제목 #51>, <Post: 제목 #61>, <Post: 제목 #71>, <Post: 제목 #81>, <Post: 제목 #91>, <Post: 제목 #100>, <Post: 제목 #101>, '...(remaining elements truncated)...']>"
      ]
     },
     "execution_count": 10,
     "metadata": {},
     "output_type": "execute_result"
    }
   ],
   "source": [
    "Post.objects.filter(title__icontains='1').exclude(title__endswith='3')"
   ]
  },
  {
   "cell_type": "code",
   "execution_count": 21,
   "metadata": {},
   "outputs": [],
   "source": [
    "from django.db.models import Q"
   ]
  },
  {
   "cell_type": "code",
   "execution_count": 23,
   "metadata": {},
   "outputs": [
    {
     "data": {
      "text/plain": [
       "<QuerySet [<Post: 제목 #1>, <Post: 제목 #3>, <Post: 제목 #10>, <Post: 제목 #11>, <Post: 제목 #12>, <Post: 제목 #13>, <Post: 제목 #14>, <Post: 제목 #15>, <Post: 제목 #16>, <Post: 제목 #17>, <Post: 제목 #18>, <Post: 제목 #19>, <Post: 제목 #21>, <Post: 제목 #23>, <Post: 제목 #31>, <Post: 제목 #33>, <Post: 제목 #41>, <Post: 제목 #43>, <Post: 제목 #51>, <Post: 제목 #53>, '...(remaining elements truncated)...']>"
      ]
     },
     "execution_count": 23,
     "metadata": {},
     "output_type": "execute_result"
    }
   ],
   "source": [
    "# Post.objects.filter(title__icontains='1', title__endsith='3')\n",
    "Post.objects.filter( Q(title__icontains='1') | Q(title__endswith='3'))"
   ]
  },
  {
   "cell_type": "code",
   "execution_count": 28,
   "metadata": {},
   "outputs": [
    {
     "data": {
      "text/plain": [
       "<Post: 제목 #19>"
      ]
     },
     "execution_count": 28,
     "metadata": {},
     "output_type": "execute_result"
    }
   ],
   "source": [
    "qs=Post.objects.filter( Q(title__icontains='1') | Q(title__endswith='3'))\n",
    "qs= qs.filter(title__icontains='9')\n",
    "\n",
    "# print(qs)\n",
    "# qs[0]\n",
    "# for post in qs:print(post)\n",
    "qs[0]"
   ]
  },
  {
   "cell_type": "code",
   "execution_count": 29,
   "metadata": {
    "scrolled": false
   },
   "outputs": [
    {
     "data": {
      "text/plain": [
       "{'sql': 'SELECT \"blog_post\".\"id\", \"blog_post\".\"author\", \"blog_post\".\"title\", \"blog_post\".\"content\", \"blog_post\".\"tags\", \"blog_post\".\"lnglat\", \"blog_post\".\"status\", \"blog_post\".\"created_at\", \"blog_post\".\"updated_at\" FROM \"blog_post\" WHERE ((\"blog_post\".\"title\" LIKE \\'%1%\\' ESCAPE \\'\\\\\\' OR \"blog_post\".\"title\" LIKE \\'%3\\' ESCAPE \\'\\\\\\') AND \"blog_post\".\"title\" LIKE \\'%9%\\' ESCAPE \\'\\\\\\')  LIMIT 1',\n",
       " 'time': '0.002'}"
      ]
     },
     "execution_count": 29,
     "metadata": {},
     "output_type": "execute_result"
    }
   ],
   "source": [
    "from django.db import connection\n",
    "connection.queries[-1]"
   ]
  },
  {
   "cell_type": "code",
   "execution_count": 31,
   "metadata": {},
   "outputs": [],
   "source": [
    "### 슬라이싱\n",
    "mynumbers=list(range(100))"
   ]
  },
  {
   "cell_type": "code",
   "execution_count": 32,
   "metadata": {},
   "outputs": [
    {
     "data": {
      "text/plain": [
       "[1, 3, 5, 7, 9]"
      ]
     },
     "execution_count": 32,
     "metadata": {},
     "output_type": "execute_result"
    }
   ],
   "source": [
    "mynumbers[1:10:2]"
   ]
  },
  {
   "cell_type": "code",
   "execution_count": 33,
   "metadata": {},
   "outputs": [
    {
     "data": {
      "text/plain": [
       "[10, 8, 6, 4, 2]"
      ]
     },
     "execution_count": 33,
     "metadata": {},
     "output_type": "execute_result"
    }
   ],
   "source": [
    "mynumbers[10:1:-2]"
   ]
  },
  {
   "cell_type": "code",
   "execution_count": null,
   "metadata": {},
   "outputs": [],
   "source": []
  }
 ],
 "metadata": {
  "kernelspec": {
   "display_name": "Django Shell-Plus",
   "language": "python",
   "name": "django_extensions"
  },
  "language_info": {
   "codemirror_mode": {
    "name": "ipython",
    "version": 3
   },
   "file_extension": ".py",
   "mimetype": "text/x-python",
   "name": "python",
   "nbconvert_exporter": "python",
   "pygments_lexer": "ipython3",
   "version": "3.7.2"
  }
 },
 "nbformat": 4,
 "nbformat_minor": 2
}
